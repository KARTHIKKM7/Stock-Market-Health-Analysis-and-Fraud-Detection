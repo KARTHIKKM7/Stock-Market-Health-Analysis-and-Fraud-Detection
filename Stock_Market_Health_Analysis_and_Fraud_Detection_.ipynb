{
  "nbformat": 4,
  "nbformat_minor": 0,
  "metadata": {
    "colab": {
      "provenance": []
    },
    "kernelspec": {
      "name": "python3",
      "display_name": "Python 3"
    },
    "language_info": {
      "name": "python"
    }
  },
  "cells": [
    {
      "cell_type": "markdown",
      "source": [
        "# **STOCK MARKET HEALTH ANALYSIS AND FRAUD DETECTION**\n",
        "\n",
        "**GROUP 7**\n",
        "\n",
        "\n",
        "*   23030242003 - ADARSH JOSEPH ABRAHAM\n",
        "*   23030242011 - ASHWIN RAJ A\n",
        "*   23030242029 - KARTHIK KM\n",
        "*   23030242052 - ROHIT GANVIR\n",
        "*   23030242070 - SWEDAN V\n",
        "*   23030242073 - MANTHAN WALVATKAR\n",
        "\n",
        "\n",
        "\n",
        "\n",
        "\n"
      ],
      "metadata": {
        "id": "vDYXYLR8ZtbZ"
      }
    },
    {
      "cell_type": "code",
      "execution_count": null,
      "metadata": {
        "id": "Dbr4jX5RZxq0"
      },
      "outputs": [],
      "source": [
        "# Import necessary libraries\n",
        "import pandas as pd\n",
        "import yfinance as yf\n",
        "import numpy as np\n",
        "from vaderSentiment.vaderSentiment import SentimentIntensityAnalyzer\n",
        "from newsapi import NewsApiClient\n",
        "from sklearn.model_selection import train_test_split\n",
        "from sklearn.tree import DecisionTreeClassifier\n",
        "from sklearn.ensemble import RandomForestClassifier\n",
        "from sklearn.metrics import classification_report, accuracy_score, confusion_matrix\n",
        "import seaborn as sns\n",
        "import matplotlib.pyplot as plt\n",
        "\n",
        "# Initialize NewsAPI client with your API key\n",
        "newsapi = NewsApiClient(api_key='5e3eccdfa77142d98ef6e6bfbc7a11c1')"
      ]
    },
    {
      "cell_type": "code",
      "source": [
        "!pip install vaderSentiment\n"
      ],
      "metadata": {
        "colab": {
          "base_uri": "https://localhost:8080/"
        },
        "id": "H42hW9ZtewJ4",
        "outputId": "4e42fa64-54e0-45ca-e24b-92759950481b"
      },
      "execution_count": null,
      "outputs": [
        {
          "output_type": "stream",
          "name": "stdout",
          "text": [
            "Collecting vaderSentiment\n",
            "  Downloading vaderSentiment-3.3.2-py2.py3-none-any.whl.metadata (572 bytes)\n",
            "Requirement already satisfied: requests in /usr/local/lib/python3.10/dist-packages (from vaderSentiment) (2.32.3)\n",
            "Requirement already satisfied: charset-normalizer<4,>=2 in /usr/local/lib/python3.10/dist-packages (from requests->vaderSentiment) (3.3.2)\n",
            "Requirement already satisfied: idna<4,>=2.5 in /usr/local/lib/python3.10/dist-packages (from requests->vaderSentiment) (3.10)\n",
            "Requirement already satisfied: urllib3<3,>=1.21.1 in /usr/local/lib/python3.10/dist-packages (from requests->vaderSentiment) (2.2.3)\n",
            "Requirement already satisfied: certifi>=2017.4.17 in /usr/local/lib/python3.10/dist-packages (from requests->vaderSentiment) (2024.8.30)\n",
            "Downloading vaderSentiment-3.3.2-py2.py3-none-any.whl (125 kB)\n",
            "\u001b[2K   \u001b[90m━━━━━━━━━━━━━━━━━━━━━━━━━━━━━━━━━━━━━━━━\u001b[0m \u001b[32m126.0/126.0 kB\u001b[0m \u001b[31m2.6 MB/s\u001b[0m eta \u001b[36m0:00:00\u001b[0m\n",
            "\u001b[?25hInstalling collected packages: vaderSentiment\n",
            "Successfully installed vaderSentiment-3.3.2\n"
          ]
        }
      ]
    },
    {
      "cell_type": "code",
      "source": [
        "!pip install newsapi-python"
      ],
      "metadata": {
        "colab": {
          "base_uri": "https://localhost:8080/"
        },
        "id": "Xivtq05ze3T3",
        "outputId": "ad9d4b4b-5e36-4f27-b69e-d9809741c5c5"
      },
      "execution_count": null,
      "outputs": [
        {
          "output_type": "stream",
          "name": "stdout",
          "text": [
            "Collecting newsapi-python\n",
            "  Downloading newsapi_python-0.2.7-py2.py3-none-any.whl.metadata (1.2 kB)\n",
            "Requirement already satisfied: requests<3.0.0 in /usr/local/lib/python3.10/dist-packages (from newsapi-python) (2.32.3)\n",
            "Requirement already satisfied: charset-normalizer<4,>=2 in /usr/local/lib/python3.10/dist-packages (from requests<3.0.0->newsapi-python) (3.3.2)\n",
            "Requirement already satisfied: idna<4,>=2.5 in /usr/local/lib/python3.10/dist-packages (from requests<3.0.0->newsapi-python) (3.10)\n",
            "Requirement already satisfied: urllib3<3,>=1.21.1 in /usr/local/lib/python3.10/dist-packages (from requests<3.0.0->newsapi-python) (2.2.3)\n",
            "Requirement already satisfied: certifi>=2017.4.17 in /usr/local/lib/python3.10/dist-packages (from requests<3.0.0->newsapi-python) (2024.8.30)\n",
            "Downloading newsapi_python-0.2.7-py2.py3-none-any.whl (7.9 kB)\n",
            "Installing collected packages: newsapi-python\n",
            "Successfully installed newsapi-python-0.2.7\n"
          ]
        }
      ]
    },
    {
      "cell_type": "code",
      "source": [],
      "metadata": {
        "id": "B-ED5Ro7BKe9"
      },
      "execution_count": null,
      "outputs": []
    },
    {
      "cell_type": "markdown",
      "source": [
        "## **Sentiment analysis**\n",
        "\n",
        "analyzes sentiment from news articles related to specific companies ( Apple and Adani Green Energy) over a defined time period. The goal is to assess how the media perceives these companies by evaluating the sentiment of their news headlines.\n",
        "\n",
        "\n",
        "**Fetching News Articles: **The function connects to a news API and gathers articles related to the target company within a specified date range. It retrieves up to 100 articles, extracting key details like publication date and headline.\n",
        "\n",
        "**Sentiment Analysis:** Using VADER sentiment analysis, the function calculates a sentiment score for each headline. The score, ranging from -1 (most negative) to +1 (most positive), indicates the tone of each article.\n",
        "\n",
        "**Data Storage and Sorting:** The sentiment scores are organized into a DataFrame, sorted by date for easier analysis. This allows for tracking sentiment trends over time.\n",
        "\n",
        "**Company Application:** The function is applied to Apple (a healthy company) and Adani Green Energy (a fraudulent company) to analyze sentiment trends over time.\n",
        "\n",
        "The code helps analyze public sentiment and media perception of these companies, which can be useful for identifying trends, risks, or market confidence.\n"
      ],
      "metadata": {
        "id": "clgJFoSv-0oK"
      }
    },
    {
      "cell_type": "code",
      "source": [
        "# Function to fetch and analyze sentiment of news articles\n",
        "def fetch_and_analyze_sentiment(company, start_date, end_date, max_articles=100):\n",
        "    # Fetch news articles\n",
        "    articles = []\n",
        "    page = 1\n",
        "\n",
        "    while len(articles) < max_articles:\n",
        "        response = newsapi.get_everything(q=f\"{company} AND stock\",\n",
        "                                          from_param=start_date,\n",
        "                                          to=end_date,\n",
        "                                          language='en',\n",
        "                                          sort_by='relevancy',\n",
        "                                          page=page,\n",
        "                                          page_size=100)\n",
        "\n",
        "        if response['status'] == 'ok':\n",
        "            articles.extend(response['articles'])\n",
        "            if len(response['articles']) < 100:\n",
        "                break\n",
        "            page += 1\n",
        "        else:\n",
        "            print(f\"Error: {response['message']}\")\n",
        "            break\n",
        "\n",
        "    articles = articles[:max_articles]\n",
        "\n",
        "    # Parse the articles and extract relevant fields\n",
        "    news_data = [{\"date\": article['publishedAt'][:10], \"headline\": article['title']} for article in articles]\n",
        "    news_df = pd.DataFrame(news_data)\n",
        "\n",
        "    # Initialize VADER sentiment analyzer\n",
        "    analyzer = SentimentIntensityAnalyzer()\n",
        "\n",
        "    # Analyze sentiment\n",
        "    sentiments = []\n",
        "    for _, row in news_df.iterrows():\n",
        "        sentiment_score = analyzer.polarity_scores(row['headline'])['compound']\n",
        "        sentiments.append({\"date\": row['date'], \"headline\": row['headline'], \"sentiment_score\": sentiment_score})\n",
        "\n",
        "    sentiment_data = pd.DataFrame(sentiments)\n",
        "    sentiment_data['date'] = pd.to_datetime(sentiment_data['date'])\n",
        "    return sentiment_data.sort_values(by='date')\n"
      ],
      "metadata": {
        "id": "GT_f3ngIfA5e"
      },
      "execution_count": null,
      "outputs": []
    },
    {
      "cell_type": "code",
      "source": [
        "# Fetch sentiment data for Apple (healthy company) and Adani Green Energy (fraudulent company)\n",
        "apple_sentiment = fetch_and_analyze_sentiment('Apple', '2024-08-29', '2024-09-19')\n",
        "adani_sentiment = fetch_and_analyze_sentiment('Adani Green Energy', '2024-08-29', '2024-09-19')"
      ],
      "metadata": {
        "id": "U7bfdvJSfCl0"
      },
      "execution_count": null,
      "outputs": []
    },
    {
      "cell_type": "code",
      "source": [
        "# Display the sentiment scores for Apple and Adani Green Energy\n",
        "print(\"Apple Sentiment Data:\")\n",
        "print(apple_sentiment)\n",
        "\n",
        "print(\"\\nAdani Green Energy Sentiment Data:\")\n",
        "print(adani_sentiment)"
      ],
      "metadata": {
        "colab": {
          "base_uri": "https://localhost:8080/"
        },
        "id": "bdsF5zIafzQj",
        "outputId": "720d6932-e04e-4b6d-e4d9-53b55a51c5f4"
      },
      "execution_count": null,
      "outputs": [
        {
          "output_type": "stream",
          "name": "stdout",
          "text": [
            "Apple Sentiment Data:\n",
            "         date                                           headline  \\\n",
            "26 2024-08-29  Nvidia is still on fire — but its trajectory i...   \n",
            "88 2024-08-29          Amazon's popular $199 iPad deal ends soon   \n",
            "30 2024-08-29   The Morning After: GameStop’s retro gaming pivot   \n",
            "86 2024-08-29  Deals: 16-inch M3 Pro MacBook Pro $500 off, Ap...   \n",
            "98 2024-08-29  Today in Apple history: Steve Jobs gets embroi...   \n",
            "..        ...                                                ...   \n",
            "1  2024-09-18  Apple halts iPadOS 18 update for M4 iPad Pro a...   \n",
            "45 2024-09-19  Deals: M3 Pro MacBook Pro $500 off, M2 iPad Ai...   \n",
            "7  2024-09-19                                          [Removed]   \n",
            "85 2024-09-19  iPhone 16 and iPhone 16 Pro Orders Start Arriv...   \n",
            "54 2024-09-19  iOS 18.1 beta 4 – Spatial Photos, hints at App...   \n",
            "\n",
            "    sentiment_score  \n",
            "26           0.4569  \n",
            "88           0.4215  \n",
            "30           0.0000  \n",
            "86           0.0000  \n",
            "98          -0.4404  \n",
            "..              ...  \n",
            "1            0.0000  \n",
            "45           0.0000  \n",
            "7            0.0000  \n",
            "85           0.0000  \n",
            "54           0.7430  \n",
            "\n",
            "[100 rows x 3 columns]\n",
            "\n",
            "Adani Green Energy Sentiment Data:\n",
            "         date                                           headline  \\\n",
            "52 2024-08-29  Share Market Highlights August 29, 2024: RIL t...   \n",
            "44 2024-08-29  Stock market update: Power stocks down as mark...   \n",
            "71 2024-08-29    김건희 게이트(Rolex Gate) 106 (Big Take. 미국 대선 개입 보복)   \n",
            "32 2024-08-29  Ambani Touts AI, Bonus Shares But Stays Silent...   \n",
            "14 2024-08-30  Stock market update: Power stocks up as market...   \n",
            "..        ...                                                ...   \n",
            "45 2024-09-18  Stock market update: Power stocks down as mark...   \n",
            "0  2024-09-18  Brokerage Investec begins coverage on Adani Gr...   \n",
            "30 2024-09-19  Stocks that will see action today: September 1...   \n",
            "33 2024-09-19  Stock Market Highlights September 19, 2024: Se...   \n",
            "68 2024-09-19  Nifty closes above 25,400 amid volatile trade,...   \n",
            "\n",
            "    sentiment_score  \n",
            "52           0.8126  \n",
            "44           0.0000  \n",
            "71           0.0000  \n",
            "32           0.4215  \n",
            "14           0.0000  \n",
            "..              ...  \n",
            "45           0.0000  \n",
            "0            0.2732  \n",
            "30           0.0000  \n",
            "33           0.4588  \n",
            "68           0.4019  \n",
            "\n",
            "[76 rows x 3 columns]\n"
          ]
        }
      ]
    },
    {
      "cell_type": "code",
      "source": [
        " #Calculate average sentiment scores\n",
        "average_sentiment = {\n",
        "    'Apple': apple_data['sentiment_score'].mean(),\n",
        "    'Adani': adani_data['sentiment_score'].mean()\n",
        "}\n",
        "\n",
        "plt.figure(figsize=(8, 5))\n",
        "plt.bar(average_sentiment.keys(), average_sentiment.values(), color=['blue', 'red'])\n",
        "plt.title('Average Sentiment Score')\n",
        "plt.ylabel('Average Sentiment Score')\n",
        "plt.axhline(0, color='black', linewidth=0.8, linestyle='--')  # Line at y=0 for reference\n",
        "plt.tight_layout()\n",
        "plt.show()"
      ],
      "metadata": {
        "colab": {
          "base_uri": "https://localhost:8080/",
          "height": 507
        },
        "id": "sSPx8cw0TfHR",
        "outputId": "2105bc0e-916a-4bf1-c9ce-94b9208473f7"
      },
      "execution_count": null,
      "outputs": [
        {
          "output_type": "display_data",
          "data": {
            "text/plain": [
              "<Figure size 800x500 with 1 Axes>"
            ],
            "image/png": "[encoded data removed]"
          },
          "metadata": {}
        }
      ]
    },
    {
      "cell_type": "code",
      "source": [
        "import matplotlib.pyplot as plt\n",
        "\n",
        "# Set date as index for easier plotting (if not already set)\n",
        "apple_data.reset_index(inplace=True)\n",
        "adani_data.reset_index(inplace=True)\n",
        "\n",
        "plt.figure(figsize=(12, 6))\n",
        "\n",
        "# Scatter plot for Apple\n",
        "plt.scatter(apple_data['Date'], apple_data['sentiment_score'], color='blue', label='Apple Sentiment Score', alpha=0.7)\n",
        "\n",
        "# Scatter plot for Adani\n",
        "plt.scatter(adani_data['Date'], adani_data['sentiment_score'], color='red', label='Adani Sentiment Score', alpha=0.7)\n",
        "\n",
        "plt.title('Scatter Plot of Sentiment Scores Over Time')\n",
        "plt.xlabel('Date')\n",
        "plt.ylabel('Sentiment Score')\n",
        "plt.axhline(0, color='black', linewidth=0.8, linestyle='--')  # Line at y=0 for reference\n",
        "plt.legend()\n",
        "plt.xticks(rotation=45)\n",
        "plt.grid()\n",
        "plt.tight_layout()\n",
        "plt.show()\n"
      ],
      "metadata": {
        "colab": {
          "base_uri": "https://localhost:8080/",
          "height": 607
        },
        "id": "sWw2qpdzTzta",
        "outputId": "cef40f6c-5f44-4da3-cc31-76de60c5728e"
      },
      "execution_count": null,
      "outputs": [
        {
          "output_type": "display_data",
          "data": {
            "text/plain": [
              "<Figure size 1200x600 with 1 Axes>"
            ],
            "image/png": "[encoded data removed]"
          },
          "metadata": {}
        }
      ]
    },
    {
      "cell_type": "markdown",
      "source": [
        "## **Fetching Stock Data:**\n",
        "\n",
        "Use yfinance library to download Apple's stock data from May 1, 2024, to September 30, 2024. It includes columns like Open, High, Low, Close, Volume, and Adjusted Close.\n",
        "The index is reset to ensure that the Date column is included explicitly for future use.\n",
        "Calculating Indicators:\n",
        "\n",
        "**5-Day Moving Average for Volume:** A 5-day moving average (Volume_MA_5) is calculated to smooth out the volume data.\n",
        "\n",
        "**Volume Anomalies:** It measures the deviation of actual volume from the moving average, indicating unusual trading activity.\n",
        "\n",
        "**Price Change:** The percentage change in the closing price from the previous day.\n",
        "Volume Change: The percentage change in trading volume from the previous day.\n",
        "\n",
        "**Price-Volume Divergence:** The difference between price change and volume change, showing how price movement relates to trading activity.\n",
        "\n",
        "**Volatility:** The rolling standard deviation of the closing price over a 5-day window, used as an indicator of stock volatility.\n",
        "Filtering Data:\n",
        "\n",
        "Only the necessary columns (Date, Volume_Anomalies, Price_Volume_Divergence, Volatility) are kept for further analysis, filtering out the rest of the stock data."
      ],
      "metadata": {
        "id": "2Ha84q9kLadp"
      }
    },
    {
      "cell_type": "code",
      "source": [
        "# Fetch stock data for Apple (AAPL)\n",
        "apple_stock = yf.download('AAPL', start='2024-05-01', end='2024-09-30')\n",
        "\n",
        "# Reset the index to have Date column\n",
        "apple_stock.reset_index(inplace=True)\n",
        "\n",
        "# Calculate indicators for Apple stock\n",
        "apple_stock['Volume_MA_5'] = apple_stock['Volume'].rolling(window=5).mean()\n",
        "apple_stock['Volume_Anomalies'] = (apple_stock['Volume'] - apple_stock['Volume_MA_5']) / apple_stock['Volume_MA_5']\n",
        "apple_stock['Price_Change'] = apple_stock['Close'].pct_change()\n",
        "apple_stock['Volume_Change'] = apple_stock['Volume'].pct_change()\n",
        "apple_stock['Price_Volume_Divergence'] = apple_stock['Price_Change'] - apple_stock['Volume_Change']\n",
        "apple_stock['Volatility'] = apple_stock['Close'].rolling(window=5).std()\n",
        "\n",
        "# Keep only necessary columns\n",
        "apple_stock_data = apple_stock[['Date', 'Volume_Anomalies', 'Price_Volume_Divergence', 'Volatility']]\n"
      ],
      "metadata": {
        "id": "J9RjzOc1fCiY",
        "colab": {
          "base_uri": "https://localhost:8080/"
        },
        "outputId": "cb9352ec-53d3-48d0-8938-569b1dbff402"
      },
      "execution_count": null,
      "outputs": [
        {
          "output_type": "stream",
          "name": "stderr",
          "text": [
            "\r[*********************100%***********************]  1 of 1 completed\n"
          ]
        }
      ]
    },
    {
      "cell_type": "code",
      "source": [],
      "metadata": {
        "id": "OgANOWJ6Iu6o"
      },
      "execution_count": null,
      "outputs": []
    },
    {
      "cell_type": "code",
      "source": [
        "apple_stock_data"
      ],
      "metadata": {
        "colab": {
          "base_uri": "https://localhost:8080/",
          "height": 423
        },
        "id": "X3vfwUA3Cm22",
        "outputId": "d9a17e67-66ca-4493-e9eb-8de20ff08795"
      },
      "execution_count": null,
      "outputs": [
        {
          "output_type": "execute_result",
          "data": {
            "text/plain": [
              "          Date  Volume_Anomalies  Price_Volume_Divergence  Volatility\n",
              "0   2024-05-01               NaN                      NaN         NaN\n",
              "1   2024-05-02               NaN                -0.847938         NaN\n",
              "2   2024-05-03               NaN                -0.672650         NaN\n",
              "3   2024-05-06               NaN                 0.509532         NaN\n",
              "4   2024-05-07         -0.166420                 0.019884    6.372851\n",
              "..         ...               ...                      ...         ...\n",
              "99  2024-09-23         -0.503267                 0.822512    5.248570\n",
              "100 2024-09-24         -0.598974                 0.199554    3.273329\n",
              "101 2024-09-25         -0.597422                 0.024241    1.085347\n",
              "102 2024-09-26         -0.630177                 0.139142    0.766831\n",
              "103 2024-09-27         -0.193092                 0.073330    0.643257\n",
              "\n",
              "[104 rows x 4 columns]"
            ],
            "text/html": [
              "\n",
              "  <div id=\"df-60baa81e-5a51-43df-9b29-0c4f3c48ca0e\" class=\"colab-df-container\">\n",
              "    <div>\n",
              "<style scoped>\n",
              "    .dataframe tbody tr th:only-of-type {\n",
              "        vertical-align: middle;\n",
              "    }\n",
              "\n",
              "    .dataframe tbody tr th {\n",
              "        vertical-align: top;\n",
              "    }\n",
              "\n",
              "    .dataframe thead th {\n",
              "        text-align: right;\n",
              "    }\n",
              "</style>\n",
              "<table border=\"1\" class=\"dataframe\">\n",
              "  <thead>\n",
              "    <tr style=\"text-align: right;\">\n",
              "      <th></th>\n",
              "      <th>Date</th>\n",
              "      <th>Volume_Anomalies</th>\n",
              "      <th>Price_Volume_Divergence</th>\n",
              "      <th>Volatility</th>\n",
              "    </tr>\n",
              "  </thead>\n",
              "  <tbody>\n",
              "    <tr>\n",
              "      <th>0</th>\n",
              "      <td>2024-05-01</td>\n",
              "      <td>NaN</td>\n",
              "      <td>NaN</td>\n",
              "      <td>NaN</td>\n",
              "    </tr>\n",
              "    <tr>\n",
              "      <th>1</th>\n",
              "      <td>2024-05-02</td>\n",
              "      <td>NaN</td>\n",
              "      <td>-0.847938</td>\n",
              "      <td>NaN</td>\n",
              "    </tr>\n",
              "    <tr>\n",
              "      <th>2</th>\n",
              "      <td>2024-05-03</td>\n",
              "      <td>NaN</td>\n",
              "      <td>-0.672650</td>\n",
              "      <td>NaN</td>\n",
              "    </tr>\n",
              "    <tr>\n",
              "      <th>3</th>\n",
              "      <td>2024-05-06</td>\n",
              "      <td>NaN</td>\n",
              "      <td>0.509532</td>\n",
              "      <td>NaN</td>\n",
              "    </tr>\n",
              "    <tr>\n",
              "      <th>4</th>\n",
              "      <td>2024-05-07</td>\n",
              "      <td>-0.166420</td>\n",
              "      <td>0.019884</td>\n",
              "      <td>6.372851</td>\n",
              "    </tr>\n",
              "    <tr>\n",
              "      <th>...</th>\n",
              "      <td>...</td>\n",
              "      <td>...</td>\n",
              "      <td>...</td>\n",
              "      <td>...</td>\n",
              "    </tr>\n",
              "    <tr>\n",
              "      <th>99</th>\n",
              "      <td>2024-09-23</td>\n",
              "      <td>-0.503267</td>\n",
              "      <td>0.822512</td>\n",
              "      <td>5.248570</td>\n",
              "    </tr>\n",
              "    <tr>\n",
              "      <th>100</th>\n",
              "      <td>2024-09-24</td>\n",
              "      <td>-0.598974</td>\n",
              "      <td>0.199554</td>\n",
              "      <td>3.273329</td>\n",
              "    </tr>\n",
              "    <tr>\n",
              "      <th>101</th>\n",
              "      <td>2024-09-25</td>\n",
              "      <td>-0.597422</td>\n",
              "      <td>0.024241</td>\n",
              "      <td>1.085347</td>\n",
              "    </tr>\n",
              "    <tr>\n",
              "      <th>102</th>\n",
              "      <td>2024-09-26</td>\n",
              "      <td>-0.630177</td>\n",
              "      <td>0.139142</td>\n",
              "      <td>0.766831</td>\n",
              "    </tr>\n",
              "    <tr>\n",
              "      <th>103</th>\n",
              "      <td>2024-09-27</td>\n",
              "      <td>-0.193092</td>\n",
              "      <td>0.073330</td>\n",
              "      <td>0.643257</td>\n",
              "    </tr>\n",
              "  </tbody>\n",
              "</table>\n",
              "<p>104 rows × 4 columns</p>\n",
              "</div>\n",
              "    <div class=\"colab-df-buttons\">\n",
              "\n",
              "  <div class=\"colab-df-container\">\n",
              "    <button class=\"colab-df-convert\" onclick=\"convertToInteractive('df-60baa81e-5a51-43df-9b29-0c4f3c48ca0e')\"\n",
              "            title=\"Convert this dataframe to an interactive table.\"\n",
              "            style=\"display:none;\">\n",
              "\n",
              "  <svg xmlns=\"http://www.w3.org/2000/svg\" height=\"24px\" viewBox=\"0 -960 960 960\">\n",
              "    <path d=\"M120-120v-720h720v720H120Zm60-500h600v-160H180v160Zm220 220h160v-160H400v160Zm0 220h160v-160H400v160ZM180-400h160v-160H180v160Zm440 0h160v-160H620v160ZM180-180h160v-160H180v160Zm440 0h160v-160H620v160Z\"/>\n",
              "  </svg>\n",
              "    </button>\n",
              "\n",
              "  <style>\n",
              "    .colab-df-container {\n",
              "      display:flex;\n",
              "      gap: 12px;\n",
              "    }\n",
              "\n",
              "    .colab-df-convert {\n",
              "      background-color: #E8F0FE;\n",
              "      border: none;\n",
              "      border-radius: 50%;\n",
              "      cursor: pointer;\n",
              "      display: none;\n",
              "      fill: #1967D2;\n",
              "      height: 32px;\n",
              "      padding: 0 0 0 0;\n",
              "      width: 32px;\n",
              "    }\n",
              "\n",
              "    .colab-df-convert:hover {\n",
              "      background-color: #E2EBFA;\n",
              "      box-shadow: 0px 1px 2px rgba(60, 64, 67, 0.3), 0px 1px 3px 1px rgba(60, 64, 67, 0.15);\n",
              "      fill: #174EA6;\n",
              "    }\n",
              "\n",
              "    .colab-df-buttons div {\n",
              "      margin-bottom: 4px;\n",
              "    }\n",
              "\n",
              "    [theme=dark] .colab-df-convert {\n",
              "      background-color: #3B4455;\n",
              "      fill: #D2E3FC;\n",
              "    }\n",
              "\n",
              "    [theme=dark] .colab-df-convert:hover {\n",
              "      background-color: #434B5C;\n",
              "      box-shadow: 0px 1px 3px 1px rgba(0, 0, 0, 0.15);\n",
              "      filter: drop-shadow(0px 1px 2px rgba(0, 0, 0, 0.3));\n",
              "      fill: #FFFFFF;\n",
              "    }\n",
              "  </style>\n",
              "\n",
              "    <script>\n",
              "      const buttonEl =\n",
              "        document.querySelector('#df-60baa81e-5a51-43df-9b29-0c4f3c48ca0e button.colab-df-convert');\n",
              "      buttonEl.style.display =\n",
              "        google.colab.kernel.accessAllowed ? 'block' : 'none';\n",
              "\n",
              "      async function convertToInteractive(key) {\n",
              "        const element = document.querySelector('#df-60baa81e-5a51-43df-9b29-0c4f3c48ca0e');\n",
              "        const dataTable =\n",
              "          await google.colab.kernel.invokeFunction('convertToInteractive',\n",
              "                                                    [key], {});\n",
              "        if (!dataTable) return;\n",
              "\n",
              "        const docLinkHtml = 'Like what you see? Visit the ' +\n",
              "          '<a target=\"_blank\" href=https://colab.research.google.com/notebooks/data_table.ipynb>data table notebook</a>'\n",
              "          + ' to learn more about interactive tables.';\n",
              "        element.innerHTML = '';\n",
              "        dataTable['output_type'] = 'display_data';\n",
              "        await google.colab.output.renderOutput(dataTable, element);\n",
              "        const docLink = document.createElement('div');\n",
              "        docLink.innerHTML = docLinkHtml;\n",
              "        element.appendChild(docLink);\n",
              "      }\n",
              "    </script>\n",
              "  </div>\n",
              "\n",
              "\n",
              "<div id=\"df-5b1065f0-fb0f-42f9-b3ca-493a8c69242a\">\n",
              "  <button class=\"colab-df-quickchart\" onclick=\"quickchart('df-5b1065f0-fb0f-42f9-b3ca-493a8c69242a')\"\n",
              "            title=\"Suggest charts\"\n",
              "            style=\"display:none;\">\n",
              "\n",
              "<svg xmlns=\"http://www.w3.org/2000/svg\" height=\"24px\"viewBox=\"0 0 24 24\"\n",
              "     width=\"24px\">\n",
              "    <g>\n",
              "        <path d=\"M19 3H5c-1.1 0-2 .9-2 2v14c0 1.1.9 2 2 2h14c1.1 0 2-.9 2-2V5c0-1.1-.9-2-2-2zM9 17H7v-7h2v7zm4 0h-2V7h2v10zm4 0h-2v-4h2v4z\"/>\n",
              "    </g>\n",
              "</svg>\n",
              "  </button>\n",
              "\n",
              "<style>\n",
              "  .colab-df-quickchart {\n",
              "      --bg-color: #E8F0FE;\n",
              "      --fill-color: #1967D2;\n",
              "      --hover-bg-color: #E2EBFA;\n",
              "      --hover-fill-color: #174EA6;\n",
              "      --disabled-fill-color: #AAA;\n",
              "      --disabled-bg-color: #DDD;\n",
              "  }\n",
              "\n",
              "  [theme=dark] .colab-df-quickchart {\n",
              "      --bg-color: #3B4455;\n",
              "      --fill-color: #D2E3FC;\n",
              "      --hover-bg-color: #434B5C;\n",
              "      --hover-fill-color: #FFFFFF;\n",
              "      --disabled-bg-color: #3B4455;\n",
              "      --disabled-fill-color: #666;\n",
              "  }\n",
              "\n",
              "  .colab-df-quickchart {\n",
              "    background-color: var(--bg-color);\n",
              "    border: none;\n",
              "    border-radius: 50%;\n",
              "    cursor: pointer;\n",
              "    display: none;\n",
              "    fill: var(--fill-color);\n",
              "    height: 32px;\n",
              "    padding: 0;\n",
              "    width: 32px;\n",
              "  }\n",
              "\n",
              "  .colab-df-quickchart:hover {\n",
              "    background-color: var(--hover-bg-color);\n",
              "    box-shadow: 0 1px 2px rgba(60, 64, 67, 0.3), 0 1px 3px 1px rgba(60, 64, 67, 0.15);\n",
              "    fill: var(--button-hover-fill-color);\n",
              "  }\n",
              "\n",
              "  .colab-df-quickchart-complete:disabled,\n",
              "  .colab-df-quickchart-complete:disabled:hover {\n",
              "    background-color: var(--disabled-bg-color);\n",
              "    fill: var(--disabled-fill-color);\n",
              "    box-shadow: none;\n",
              "  }\n",
              "\n",
              "  .colab-df-spinner {\n",
              "    border: 2px solid var(--fill-color);\n",
              "    border-color: transparent;\n",
              "    border-bottom-color: var(--fill-color);\n",
              "    animation:\n",
              "      spin 1s steps(1) infinite;\n",
              "  }\n",
              "\n",
              "  @keyframes spin {\n",
              "    0% {\n",
              "      border-color: transparent;\n",
              "      border-bottom-color: var(--fill-color);\n",
              "      border-left-color: var(--fill-color);\n",
              "    }\n",
              "    20% {\n",
              "      border-color: transparent;\n",
              "      border-left-color: var(--fill-color);\n",
              "      border-top-color: var(--fill-color);\n",
              "    }\n",
              "    30% {\n",
              "      border-color: transparent;\n",
              "      border-left-color: var(--fill-color);\n",
              "      border-top-color: var(--fill-color);\n",
              "      border-right-color: var(--fill-color);\n",
              "    }\n",
              "    40% {\n",
              "      border-color: transparent;\n",
              "      border-right-color: var(--fill-color);\n",
              "      border-top-color: var(--fill-color);\n",
              "    }\n",
              "    60% {\n",
              "      border-color: transparent;\n",
              "      border-right-color: var(--fill-color);\n",
              "    }\n",
              "    80% {\n",
              "      border-color: transparent;\n",
              "      border-right-color: var(--fill-color);\n",
              "      border-bottom-color: var(--fill-color);\n",
              "    }\n",
              "    90% {\n",
              "      border-color: transparent;\n",
              "      border-bottom-color: var(--fill-color);\n",
              "    }\n",
              "  }\n",
              "</style>\n",
              "\n",
              "  <script>\n",
              "    async function quickchart(key) {\n",
              "      const quickchartButtonEl =\n",
              "        document.querySelector('#' + key + ' button');\n",
              "      quickchartButtonEl.disabled = true;  // To prevent multiple clicks.\n",
              "      quickchartButtonEl.classList.add('colab-df-spinner');\n",
              "      try {\n",
              "        const charts = await google.colab.kernel.invokeFunction(\n",
              "            'suggestCharts', [key], {});\n",
              "      } catch (error) {\n",
              "        console.error('Error during call to suggestCharts:', error);\n",
              "      }\n",
              "      quickchartButtonEl.classList.remove('colab-df-spinner');\n",
              "      quickchartButtonEl.classList.add('colab-df-quickchart-complete');\n",
              "    }\n",
              "    (() => {\n",
              "      let quickchartButtonEl =\n",
              "        document.querySelector('#df-5b1065f0-fb0f-42f9-b3ca-493a8c69242a button');\n",
              "      quickchartButtonEl.style.display =\n",
              "        google.colab.kernel.accessAllowed ? 'block' : 'none';\n",
              "    })();\n",
              "  </script>\n",
              "</div>\n",
              "\n",
              "  <div id=\"id_fc59281a-6e83-4182-8908-1b0e732d86f4\">\n",
              "    <style>\n",
              "      .colab-df-generate {\n",
              "        background-color: #E8F0FE;\n",
              "        border: none;\n",
              "        border-radius: 50%;\n",
              "        cursor: pointer;\n",
              "        display: none;\n",
              "        fill: #1967D2;\n",
              "        height: 32px;\n",
              "        padding: 0 0 0 0;\n",
              "        width: 32px;\n",
              "      }\n",
              "\n",
              "      .colab-df-generate:hover {\n",
              "        background-color: #E2EBFA;\n",
              "        box-shadow: 0px 1px 2px rgba(60, 64, 67, 0.3), 0px 1px 3px 1px rgba(60, 64, 67, 0.15);\n",
              "        fill: #174EA6;\n",
              "      }\n",
              "\n",
              "      [theme=dark] .colab-df-generate {\n",
              "        background-color: #3B4455;\n",
              "        fill: #D2E3FC;\n",
              "      }\n",
              "\n",
              "      [theme=dark] .colab-df-generate:hover {\n",
              "        background-color: #434B5C;\n",
              "        box-shadow: 0px 1px 3px 1px rgba(0, 0, 0, 0.15);\n",
              "        filter: drop-shadow(0px 1px 2px rgba(0, 0, 0, 0.3));\n",
              "        fill: #FFFFFF;\n",
              "      }\n",
              "    </style>\n",
              "    <button class=\"colab-df-generate\" onclick=\"generateWithVariable('apple_stock_data')\"\n",
              "            title=\"Generate code using this dataframe.\"\n",
              "            style=\"display:none;\">\n",
              "\n",
              "  <svg xmlns=\"http://www.w3.org/2000/svg\" height=\"24px\"viewBox=\"0 0 24 24\"\n",
              "       width=\"24px\">\n",
              "    <path d=\"M7,19H8.4L18.45,9,17,7.55,7,17.6ZM5,21V16.75L18.45,3.32a2,2,0,0,1,2.83,0l1.4,1.43a1.91,1.91,0,0,1,.58,1.4,1.91,1.91,0,0,1-.58,1.4L9.25,21ZM18.45,9,17,7.55Zm-12,3A5.31,5.31,0,0,0,4.9,8.1,5.31,5.31,0,0,0,1,6.5,5.31,5.31,0,0,0,4.9,4.9,5.31,5.31,0,0,0,6.5,1,5.31,5.31,0,0,0,8.1,4.9,5.31,5.31,0,0,0,12,6.5,5.46,5.46,0,0,0,6.5,12Z\"/>\n",
              "  </svg>\n",
              "    </button>\n",
              "    <script>\n",
              "      (() => {\n",
              "      const buttonEl =\n",
              "        document.querySelector('#id_fc59281a-6e83-4182-8908-1b0e732d86f4 button.colab-df-generate');\n",
              "      buttonEl.style.display =\n",
              "        google.colab.kernel.accessAllowed ? 'block' : 'none';\n",
              "\n",
              "      buttonEl.onclick = () => {\n",
              "        google.colab.notebook.generateWithVariable('apple_stock_data');\n",
              "      }\n",
              "      })();\n",
              "    </script>\n",
              "  </div>\n",
              "\n",
              "    </div>\n",
              "  </div>\n"
            ],
            "application/vnd.google.colaboratory.intrinsic+json": {
              "type": "dataframe",
              "variable_name": "apple_stock_data",
              "summary": "{\n  \"name\": \"apple_stock_data\",\n  \"rows\": 104,\n  \"fields\": [\n    {\n      \"column\": \"Date\",\n      \"properties\": {\n        \"dtype\": \"date\",\n        \"min\": \"2024-05-01 00:00:00\",\n        \"max\": \"2024-09-27 00:00:00\",\n        \"num_unique_values\": 104,\n        \"samples\": [\n          \"2024-06-13 00:00:00\",\n          \"2024-08-05 00:00:00\",\n          \"2024-08-02 00:00:00\"\n        ],\n        \"semantic_type\": \"\",\n        \"description\": \"\"\n      }\n    },\n    {\n      \"column\": \"Volume_Anomalies\",\n      \"properties\": {\n        \"dtype\": \"number\",\n        \"std\": 0.3705091233288115,\n        \"min\": -0.6301769294410121,\n        \"max\": 1.8958642596370119,\n        \"num_unique_values\": 100,\n        \"samples\": [\n          -0.22274588154279915,\n          0.16506201961483943,\n          0.03165591894208514\n        ],\n        \"semantic_type\": \"\",\n        \"description\": \"\"\n      }\n    },\n    {\n      \"column\": \"Price_Volume_Divergence\",\n      \"properties\": {\n        \"dtype\": \"number\",\n        \"std\": 0.5204525693390861,\n        \"min\": -3.7749204760486412,\n        \"max\": 0.8225117792105928,\n        \"num_unique_values\": 103,\n        \"samples\": [\n          0.2752899463794163,\n          0.27413053390790065,\n          -0.2658638696772263\n        ],\n        \"semantic_type\": \"\",\n        \"description\": \"\"\n      }\n    },\n    {\n      \"column\": \"Volatility\",\n      \"properties\": {\n        \"dtype\": \"number\",\n        \"std\": 1.8419499836460673,\n        \"min\": 0.5095852099615816,\n        \"max\": 9.512828702020053,\n        \"num_unique_values\": 100,\n        \"samples\": [\n          4.122951645931044,\n          2.6344749532785747,\n          3.3188970661350603\n        ],\n        \"semantic_type\": \"\",\n        \"description\": \"\"\n      }\n    }\n  ]\n}"
            }
          },
          "metadata": {},
          "execution_count": 64
        }
      ]
    },
    {
      "cell_type": "code",
      "source": [
        "# Fetch stock data for Adani Green Energy (change the ticker if needed)\n",
        "adani_stock = yf.download('ADANIGREEN.NS', start='2024-05-01', end='2024-09-30')  # Ensure the ticker is correct\n",
        "\n",
        "# Check if the data is retrieved\n",
        "if adani_stock.empty:\n",
        "    print(\"No data available for Adani Green Energy. Please check the ticker symbol or the date range.\")\n",
        "else:\n",
        "    # Reset the index to have Date column\n",
        "    adani_stock.reset_index(inplace=True)\n",
        "\n",
        "    # Calculate indicators for Adani Green Energy stock\n",
        "    adani_stock['Volume_MA_5'] = adani_stock['Volume'].rolling(window=5).mean()\n",
        "    adani_stock['Volume_Anomalies'] = (adani_stock['Volume'] - adani_stock['Volume_MA_5']) / adani_stock['Volume_MA_5']\n",
        "    adani_stock['Price_Change'] = adani_stock['Close'].pct_change()\n",
        "    adani_stock['Volume_Change'] = adani_stock['Volume'].pct_change()\n",
        "    adani_stock['Price_Volume_Divergence'] = adani_stock['Price_Change'] - adani_stock['Volume_Change']\n",
        "    adani_stock['Volatility'] = adani_stock['Close'].rolling(window=5).std()\n",
        "\n",
        "    # Keep only necessary columns\n",
        "    adani_stock_data = adani_stock[['Date', 'Volume_Anomalies', 'Price_Volume_Divergence', 'Volatility']]\n",
        "\n",
        "    # Display the Adani Green Energy stock data\n",
        "    print(\"Adani Green Energy Stock Data:\")\n",
        "    print(adani_stock_data)\n"
      ],
      "metadata": {
        "colab": {
          "base_uri": "https://localhost:8080/"
        },
        "id": "Vofb9A-WDYtg",
        "outputId": "825adf8e-f931-4211-ee00-b9a767f6b36c"
      },
      "execution_count": null,
      "outputs": [
        {
          "output_type": "stream",
          "name": "stderr",
          "text": [
            "\r[*********************100%***********************]  1 of 1 completed"
          ]
        },
        {
          "output_type": "stream",
          "name": "stdout",
          "text": [
            "Adani Green Energy Stock Data:\n",
            "          Date  Volume_Anomalies  Price_Volume_Divergence  Volatility\n",
            "0   2024-05-02               NaN                      NaN         NaN\n",
            "1   2024-05-03               NaN                -0.743550         NaN\n",
            "2   2024-05-06               NaN                 0.365312         NaN\n",
            "3   2024-05-07               NaN                 0.159814         NaN\n",
            "4   2024-05-08         -0.300090                 0.157473   27.960369\n",
            "..         ...               ...                      ...         ...\n",
            "98  2024-09-23         -0.077933                 0.310695   35.325477\n",
            "99  2024-09-24         -0.422786                 0.455836   49.203734\n",
            "100 2024-09-25         -0.684232                 0.501813   45.077684\n",
            "101 2024-09-26         -0.708480                 0.272788   28.111040\n",
            "102 2024-09-27          0.102671                -1.898966   36.786247\n",
            "\n",
            "[103 rows x 4 columns]\n"
          ]
        },
        {
          "output_type": "stream",
          "name": "stderr",
          "text": [
            "\n"
          ]
        }
      ]
    },
    {
      "cell_type": "markdown",
      "source": [
        "## **Merging Stock and Sentiment Data:**\n",
        "\n",
        "* The pd.concat() function is used to concatenate the stock data (apple_stock_data, adani_stock_data) and the sentiment data (apple_sentiment, adani_sentiment) along the columns (axis=1).\n",
        "*  The stock data contains stock indicators like Volume Anomalies, Price-Volume Divergence, and Volatility, while the sentiment data includes the sentiment_score for each date.\n",
        "\n",
        "\n",
        "**Keeping Only Relevant Data:**\n",
        "The [['sentiment_score']] ensures that only the sentiment_score column from the sentiment data is added to the corresponding stock data.\n",
        "Resulting DataFrames:\n",
        "\n",
        "**apple_data:** This will have Apple’s stock indicators alongside the sentiment score for each date.\n",
        "**adani_data: **This will contain Adani Green Energy's stock indicators with the corresponding sentiment score."
      ],
      "metadata": {
        "id": "sRBHYd-fMGI5"
      }
    },
    {
      "cell_type": "code",
      "source": [
        "# merging\n",
        "apple_data = pd.concat([apple_stock_data, apple_sentiment[['sentiment_score']]], axis=1)\n",
        "adani_data = pd.concat([adani_stock_data, adani_sentiment[['sentiment_score']]], axis=1)\n",
        "\n",
        "# For Apple: Replace zeros or NaN values in 'Sentiment Score' with a positive average (e.g., 0.5)\n",
        "apple_data['sentiment_score'] = apple_data['sentiment_score'].apply(\n",
        "    lambda x: 0.5 if pd.isna(x) or x == 0 else x\n",
        ")\n",
        "\n",
        "# For Adani: Replace zeros or NaN values in 'Sentiment Score' with a negative average (e.g., -0.5)\n",
        "adani_data['sentiment_score'] = adani_data['sentiment_score'].apply(\n",
        "    lambda x: -0.5 if pd.isna(x) or x == 0 else x\n",
        ")\n"
      ],
      "metadata": {
        "id": "CS4yzIjsBURj"
      },
      "execution_count": null,
      "outputs": []
    },
    {
      "cell_type": "code",
      "source": [
        "# Display the final merged data\n",
        "print(\"Apple Stock Data with Sentiment:\")\n",
        "print(apple_data)\n",
        "\n",
        "print(\"\\nAdani Green Energy Stock Data with Sentiment:\")\n",
        "print(adani_data)"
      ],
      "metadata": {
        "colab": {
          "base_uri": "https://localhost:8080/"
        },
        "id": "A_pfuuitggSJ",
        "outputId": "b2675a07-5f10-40e4-9160-57aabc7497e9"
      },
      "execution_count": null,
      "outputs": [
        {
          "output_type": "stream",
          "name": "stdout",
          "text": [
            "Apple Stock Data with Sentiment:\n",
            "          Date  Volume_Anomalies  Price_Volume_Divergence  Volatility  \\\n",
            "0   2024-05-01               NaN                      NaN         NaN   \n",
            "1   2024-05-02               NaN                -0.847938         NaN   \n",
            "2   2024-05-03               NaN                -0.672650         NaN   \n",
            "3   2024-05-06               NaN                 0.509532         NaN   \n",
            "4   2024-05-07         -0.166420                 0.019884    6.372851   \n",
            "..         ...               ...                      ...         ...   \n",
            "99  2024-09-23         -0.503267                 0.822512    5.248570   \n",
            "100 2024-09-24         -0.598974                 0.199554    3.273329   \n",
            "101 2024-09-25         -0.597422                 0.024241    1.085347   \n",
            "102 2024-09-26         -0.630177                 0.139142    0.766831   \n",
            "103 2024-09-27         -0.193092                 0.073330    0.643257   \n",
            "\n",
            "     sentiment_score  \n",
            "0             0.5000  \n",
            "1             0.5000  \n",
            "2            -0.2732  \n",
            "3             0.1779  \n",
            "4             0.5000  \n",
            "..               ...  \n",
            "99            0.5000  \n",
            "100           0.5000  \n",
            "101           0.5000  \n",
            "102           0.5000  \n",
            "103           0.5000  \n",
            "\n",
            "[104 rows x 5 columns]\n",
            "\n",
            "Adani Green Energy Stock Data with Sentiment:\n",
            "          Date  Volume_Anomalies  Price_Volume_Divergence  Volatility  \\\n",
            "0   2024-05-02               NaN                      NaN         NaN   \n",
            "1   2024-05-03               NaN                -0.743550         NaN   \n",
            "2   2024-05-06               NaN                 0.365312         NaN   \n",
            "3   2024-05-07               NaN                 0.159814         NaN   \n",
            "4   2024-05-08         -0.300090                 0.157473   27.960369   \n",
            "..         ...               ...                      ...         ...   \n",
            "98  2024-09-23         -0.077933                 0.310695   35.325477   \n",
            "99  2024-09-24         -0.422786                 0.455836   49.203734   \n",
            "100 2024-09-25         -0.684232                 0.501813   45.077684   \n",
            "101 2024-09-26         -0.708480                 0.272788   28.111040   \n",
            "102 2024-09-27          0.102671                -1.898966   36.786247   \n",
            "\n",
            "     sentiment_score  \n",
            "0             0.2732  \n",
            "1            -0.5000  \n",
            "2            -0.5000  \n",
            "3             0.2732  \n",
            "4             0.2732  \n",
            "..               ...  \n",
            "98           -0.5000  \n",
            "99           -0.5000  \n",
            "100          -0.5000  \n",
            "101          -0.5000  \n",
            "102          -0.5000  \n",
            "\n",
            "[103 rows x 5 columns]\n"
          ]
        }
      ]
    },
    {
      "cell_type": "markdown",
      "source": [
        "**Labeling the Companies:**\n",
        "\n",
        "A new column called label is added to both apple_data and adani_data to classify the companies:\n",
        "Apple, a healthy company, is labeled as 0.\n",
        "Adani Green Energy, considered fraudulent, is labeled as 1.\n",
        "\n",
        "**Combining the Datasets:**\n",
        "\n",
        "The pd.concat() function is used to merge the two datasets (apple_data and adani_data) into one combined_data DataFrame.\n",
        "This combined dataset now contains stock indicators, sentiment scores, and labels for both companies, allowing for comparative analysis or machine learning tasks.\n",
        "\n",
        "**Displaying the Combined Data:**\n",
        "\n",
        "The combined dataset is printed to show both Apple and Adani Green Energy data, with their respective labels (0 for Apple and 1 for Adani)."
      ],
      "metadata": {
        "id": "3lZOQTx8MxW5"
      }
    },
    {
      "cell_type": "code",
      "source": [
        "# Label the companies (Apple = Healthy (0), Adani Green Energy = Fraudulent (1))\n",
        "apple_data['label'] = 0  # Healthy company\n",
        "adani_data['label'] = 1  # Fraudulent company\n",
        "\n",
        "# Combine both datasets\n",
        "combined_data = pd.concat([apple_data, adani_data])\n",
        "\n",
        "# Display combined data\n",
        "print(\"Combined Data (Apple and Adani Green Energy):\")\n",
        "print(combined_data)\n",
        "\n"
      ],
      "metadata": {
        "id": "KkakMA0LfCfz",
        "colab": {
          "base_uri": "https://localhost:8080/"
        },
        "outputId": "16baa2a8-7281-43dd-fc62-88706a1f0a0f"
      },
      "execution_count": null,
      "outputs": [
        {
          "output_type": "stream",
          "name": "stdout",
          "text": [
            "Combined Data (Apple and Adani Green Energy):\n",
            "          Date  Volume_Anomalies  Price_Volume_Divergence  Volatility  \\\n",
            "0   2024-05-01               NaN                      NaN         NaN   \n",
            "1   2024-05-02               NaN                -0.847938         NaN   \n",
            "2   2024-05-03               NaN                -0.672650         NaN   \n",
            "3   2024-05-06               NaN                 0.509532         NaN   \n",
            "4   2024-05-07         -0.166420                 0.019884    6.372851   \n",
            "..         ...               ...                      ...         ...   \n",
            "98  2024-09-23         -0.077933                 0.310695   35.325477   \n",
            "99  2024-09-24         -0.422786                 0.455836   49.203734   \n",
            "100 2024-09-25         -0.684232                 0.501813   45.077684   \n",
            "101 2024-09-26         -0.708480                 0.272788   28.111040   \n",
            "102 2024-09-27          0.102671                -1.898966   36.786247   \n",
            "\n",
            "     sentiment_score  label  \n",
            "0             0.5000      0  \n",
            "1             0.5000      0  \n",
            "2            -0.2732      0  \n",
            "3             0.1779      0  \n",
            "4             0.5000      0  \n",
            "..               ...    ...  \n",
            "98           -0.5000      1  \n",
            "99           -0.5000      1  \n",
            "100          -0.5000      1  \n",
            "101          -0.5000      1  \n",
            "102          -0.5000      1  \n",
            "\n",
            "[207 rows x 6 columns]\n"
          ]
        }
      ]
    },
    {
      "cell_type": "code",
      "source": [
        "# Exploratory Data Analysis (EDA) - Correlation Heatmap\n",
        "plt.figure(figsize=(10, 8))\n",
        "sns.heatmap(combined_data[['Volume_Anomalies', 'Price_Volume_Divergence', 'Volatility', 'sentiment_score']].corr(), annot=True, cmap='coolwarm')\n",
        "plt.title(\"Correlation between Features\")\n",
        "plt.show()"
      ],
      "metadata": {
        "colab": {
          "base_uri": "https://localhost:8080/",
          "height": 699
        },
        "id": "KNaYHDaXfCdK",
        "outputId": "779b8afa-13a2-45dc-cd83-032f8f27281b"
      },
      "execution_count": null,
      "outputs": [
        {
          "output_type": "display_data",
          "data": {
            "text/plain": [
              "<Figure size 1000x800 with 2 Axes>"
            ],
            "image/png": "[encoded data removed]"
          },
          "metadata": {}
        }
      ]
    },
    {
      "cell_type": "code",
      "source": [
        "# Prepare data for model training\n",
        "X = combined_data[['Volume_Anomalies', 'Price_Volume_Divergence', 'Volatility', 'sentiment_score']]\n",
        "y = combined_data['label']\n",
        "\n",
        "# Split data into training and test sets\n",
        "X_train, X_test, y_train, y_test = train_test_split(X, y, test_size=0.2, random_state=42)\n"
      ],
      "metadata": {
        "id": "jqGThmAvfCan"
      },
      "execution_count": null,
      "outputs": []
    },
    {
      "cell_type": "markdown",
      "source": [
        "## **Decision Tree Classifier**\n",
        "\n",
        "**Prediction:**\n",
        "\n",
        "y_pred_dt = dt_model.predict(X_test):\n",
        "This line uses the trained Decision Tree model (dt_model) to predict the labels (fraudulent or healthy) for the test set (X_test).\n",
        "The predictions are stored in y_pred_dt.\n",
        "Classification Report:\n",
        "\n",
        "print(classification_report(y_test, y_pred_dt)):\n",
        "This prints a detailed classification report, which includes precision, recall, F1-score, and support for each class (0 = Apple, 1 = Adani Green Energy).\n",
        "Accuracy:\n",
        "\n",
        "print(f\"Accuracy: {accuracy_score(y_test, y_pred_dt)}\"):\n",
        "This prints the overall accuracy of the Decision Tree model, which is the proportion of correct predictions out of all predictions.\n",
        "\n",
        "\n",
        "\n",
        "**Overall Accuracy:**\n",
        "\n",
        "92.86% accuracy means the model correctly predicted whether a company is fraudulent (Adani) or healthy (Apple) in about 93% of the cases.\n",
        "\n",
        "**Precision:** **bold text**\n",
        "\n",
        "Class 0 (Apple - Healthy): 90% precision means that, of all the companies the model predicted as healthy, 90% were actually healthy.\n",
        "Class 1 (Adani - Fraudulent): 95% precision means that, of all the companies the model predicted as fraudulent, 95% were indeed fraudulent.\n",
        "\n",
        "**Recall:**\n",
        "\n",
        "Class 0 (Apple): 95% recall indicates that the model identified 95% of the actual healthy companies correctly.\n",
        "Class 1 (Adani): 91% recall means the model identified 91% of the fraudulent companies correctly.\n",
        "\n",
        "**F1-Score:**\n",
        "\n",
        "The F1-score is the harmonic mean of precision and recall, balancing both measures.\n",
        "Class 0 (Apple): The F1-score of 0.92 indicates the model balances precision and recall well for predicting healthy companies.\n",
        "Class 1 (Adani): The F1-score of 0.93 shows a similarly strong balance for fraudulent companies.\n",
        "\n",
        "**Support:**\n",
        "\n",
        "Class 0 (Apple): The model evaluated 19 instances of healthy companies in the test set.\n",
        "Class 1 (Adani): The model evaluated 23 instances of fraudulent companies.\n",
        "\n",
        "**Summary**:\n",
        "\n",
        "The model performs very well in identifying both healthy (Apple) and fraudulent (Adani) companies, with high precision, recall, and F1-scores across both classes. With an accuracy of about 93%, the Decision Tree classifier is reliable in predicting whether a company is healthy or fraudulent based on the given features (Volume Anomalies, Price-Volume Divergence, Volatility, and Sentiment Score)."
      ],
      "metadata": {
        "id": "W4lF1kYFTUje"
      }
    },
    {
      "cell_type": "code",
      "source": [
        "# Decision Tree Classifier\n",
        "dt_model = DecisionTreeClassifier(random_state=42)\n",
        "dt_model.fit(X_train, y_train)\n",
        "\n",
        "# Predictions and Evaluation for Decision Tree\n",
        "y_pred_dt = dt_model.predict(X_test)\n",
        "print(\"Decision Tree Classifier Report:\")\n",
        "print(classification_report(y_test, y_pred_dt))\n",
        "print(f\"Accuracy: {accuracy_score(y_test, y_pred_dt)}\")\n"
      ],
      "metadata": {
        "colab": {
          "base_uri": "https://localhost:8080/"
        },
        "id": "aA3AqwVTfCT2",
        "outputId": "9e4d801d-a842-43a2-e43b-181107bdc362"
      },
      "execution_count": null,
      "outputs": [
        {
          "output_type": "stream",
          "name": "stdout",
          "text": [
            "Decision Tree Classifier Report:\n",
            "              precision    recall  f1-score   support\n",
            "\n",
            "           0       0.90      0.95      0.92        19\n",
            "           1       0.95      0.91      0.93        23\n",
            "\n",
            "    accuracy                           0.93        42\n",
            "   macro avg       0.93      0.93      0.93        42\n",
            "weighted avg       0.93      0.93      0.93        42\n",
            "\n",
            "Accuracy: 0.9285714285714286\n"
          ]
        }
      ]
    },
    {
      "cell_type": "markdown",
      "source": [
        "\n",
        "## **Random Forest Classifier**\n",
        "\n",
        "**Precision:**\n",
        "\n",
        "Class 0 (Healthy - Apple): 90% precision means that 90% of the companies predicted as healthy by the model were actually healthy.\n",
        "Class 1 (Fraudulent - Adani Green Energy): 95% precision means that 95% of the companies predicted as fraudulent were indeed fraudulent.\n",
        "\n",
        "**Recall:**\n",
        "\n",
        "Class 0 (Apple): 95% recall indicates that the model correctly identified 95% of all the actual healthy companies.\n",
        "Class 1 (Adani): 91% recall means the model correctly identified 91% of the fraudulent companies.\n",
        "\n",
        "**F1-Score:**\n",
        "\n",
        "The F1-score is the harmonic mean of precision and recall, providing a balanced view of model performance:\n",
        "Class 0 (Apple): An F1-score of 0.92 indicates a good balance between precision and recall for healthy companies.\n",
        "Class 1 (Adani): An F1-score of 0.93 means the model is similarly strong for fraudulent companies.\n",
        "\n",
        "**Support:**\n",
        "\n",
        "Class 0 (Apple): 19 instances of healthy companies were evaluated.\n",
        "Class 1 (Adani): 23 instances of fraudulent companies were evaluated.\n",
        "\n",
        "**Overall Accuracy:**\n",
        "\n",
        "92.86% accuracy shows that the Random Forest classifier correctly predicted whether a company was healthy or fraudulent in about 93% of the cases.\n",
        "Macro Average:\n",
        "\n"
      ],
      "metadata": {
        "id": "SF-zhAzwUzep"
      }
    },
    {
      "cell_type": "code",
      "source": [
        "# Random Forest Classifier\n",
        "rf_model = RandomForestClassifier(random_state=42, n_estimators=100)\n",
        "rf_model.fit(X_train, y_train)\n",
        "\n",
        "# Predictions and Evaluation for Random Forest\n",
        "y_pred_rf = rf_model.predict(X_test)\n",
        "print(\"Random Forest Classifier Report:\")\n",
        "print(classification_report(y_test, y_pred_rf))\n",
        "print(f\"Accuracy: {accuracy_score(y_test, y_pred_rf)}\")\n",
        "\n",
        "# Confusion matrix for Random Forest\n",
        "plt.figure(figsize=(6, 4))\n",
        "sns.heatmap(confusion_matrix(y_test, y_pred_rf), annot=True, fmt='d', cmap='Blues')\n",
        "plt.title(\"Random Forest Confusion Matrix\")\n",
        "plt.xlabel(\"Predicted\")\n",
        "plt.ylabel(\"Actual\")\n",
        "plt.show()\n"
      ],
      "metadata": {
        "colab": {
          "base_uri": "https://localhost:8080/",
          "height": 601
        },
        "id": "KxTq9ABwikLy",
        "outputId": "349e3d37-e871-4781-91e2-39ea0c3151d0"
      },
      "execution_count": null,
      "outputs": [
        {
          "output_type": "stream",
          "name": "stdout",
          "text": [
            "Random Forest Classifier Report:\n",
            "              precision    recall  f1-score   support\n",
            "\n",
            "           0       0.90      0.95      0.92        19\n",
            "           1       0.95      0.91      0.93        23\n",
            "\n",
            "    accuracy                           0.93        42\n",
            "   macro avg       0.93      0.93      0.93        42\n",
            "weighted avg       0.93      0.93      0.93        42\n",
            "\n",
            "Accuracy: 0.9285714285714286\n"
          ]
        },
        {
          "output_type": "display_data",
          "data": {
            "text/plain": [
              "<Figure size 600x400 with 2 Axes>"
            ],
            "image/png": "[encoded data removed]"
          },
          "metadata": {}
        }
      ]
    },
    {
      "cell_type": "code",
      "source": [
        "import pandas as pd\n",
        "import numpy  as np"
      ],
      "metadata": {
        "id": "a1AHcvNmJY1t"
      },
      "execution_count": null,
      "outputs": []
    },
    {
      "cell_type": "code",
      "source": [
        "df_apple = pd.read_excel('/content/apple_progressive_quarterly_data_20_years.xlsx')"
      ],
      "metadata": {
        "id": "WbdshkMOJmo-"
      },
      "execution_count": null,
      "outputs": []
    },
    {
      "cell_type": "markdown",
      "source": [
        "## **Feature Engineering**\n",
        "The code performs feature engineering by calculating various key financial ratios for Apple, enhancing the raw financial data to make it more suitable for analysis and predictive modeling. These new features provide more meaningful insights, improving the interpretability and predictive power of machine learning models. Once the ratios are calculated, the dataset is saved to an Excel file for further analysis.\n",
        "\n",
        "Key Financial Ratios:\n",
        "\n",
        "**Current Ratio:**\n",
        "\n",
        "Transforms raw data on current assets and liabilities into a measure of liquidity.\n",
        "\n",
        "***Debt-to-Equity (D/E) Ratio: ***\n",
        "\n",
        "Converts total debt and equity into a feature that reflects Apple’s financial leverage.\n",
        "\n",
        "**Return on Equity (ROE): **\n",
        "\n",
        "Uses net income and equity to create a profitability indicator.\n",
        "Gross Profit Margin: Highlights Apple’s efficiency in generating profit from revenue, based on cost of goods sold (COGS).\n",
        "\n",
        "\n",
        "**Net Profit Margin:**\n",
        "\n",
        "Converts raw revenue and net income into a ratio that shows the overall profitability.\n",
        "\n",
        "**Cash Flow to Debt Ratio: **\n",
        "\n",
        "Measures Apple’s ability to cover debt using operating cash flow, derived from existing cash flow data.\n",
        "\n",
        "**Revenue Growth: **\n",
        "\n",
        "Introduces a new feature by calculating the percentage change in revenue over time.\n",
        "\n",
        "**Earnings Growth: **\n",
        "\n",
        "Measures the growth in net income as a new feature, offering insight into financial performance trends.\n",
        "\n",
        "**Operating Income Growth: **\n",
        "\n",
        "Tracks the change in operating income to reflect performance improvements."
      ],
      "metadata": {
        "id": "f4dSwmi0W_Et"
      }
    },
    {
      "cell_type": "code",
      "source": [
        "# Calculate financial ratios\n",
        "\n",
        "# 1. Current Ratio\n",
        "df_apple['Current Ratio'] = df_apple['Current Assets'] / df_apple['Current Liabilities']\n",
        "\n",
        "# 2. Debt-to-Equity (D/E) Ratio\n",
        "df_apple['Debt-to-Equity (D/E) Ratio'] = df_apple['Total Debt'] / df_apple['Total Equity']\n",
        "\n",
        "# 3. Return on Equity (ROE)\n",
        "df_apple['Return on Equity (ROE)'] = df_apple['Net Income'] / df_apple['Total Equity']\n",
        "\n",
        "# 4. Gross Profit Margin\n",
        "df_apple['Gross Profit Margin'] = (df_apple['Revenue'] - df_apple['Cost of Goods Sold (COGS)']) / df_apple['Revenue']\n",
        "\n",
        "# 5. Net Profit Margin\n",
        "df_apple['Net Profit Margin'] = df_apple['Net Income'] / df_apple['Revenue']\n",
        "\n",
        "# 6. Cash Flow to Debt Ratio\n",
        "df_apple['Cash Flow to Debt Ratio'] = df_apple['Operating Cash Flow'] / df_apple['Total Debt']\n",
        "\n",
        "# 7. Revenue Growth (calculate the difference between current and previous rows)\n",
        "df_apple['Revenue Growth'] = df_apple['Revenue'].pct_change()\n",
        "\n",
        "# 8. Earnings Growth (calculate the difference between current and previous rows)\n",
        "df_apple['Earnings Growth'] = df_apple['Net Income'].pct_change()\n",
        "\n",
        "# 9. Operating Income Growth (calculate the difference between current and previous rows)\n",
        "df_apple['Operating Income Growth'] = df_apple['Operating Income'].pct_change()\n",
        "\n",
        "# Save the updated dataset with the new ratios\n",
        "df_apple.to_excel('apple_financial_ratios.xlsx', index=False)\n",
        "\n",
        "print(\"Financial ratios calculated and saved successfully.\")"
      ],
      "metadata": {
        "colab": {
          "base_uri": "https://localhost:8080/"
        },
        "id": "lJEO2H_3JoYv",
        "outputId": "152af19e-fc46-48c9-be18-3c6a3d83fe87"
      },
      "execution_count": null,
      "outputs": [
        {
          "output_type": "stream",
          "name": "stdout",
          "text": [
            "Financial ratios calculated and saved successfully.\n"
          ]
        }
      ]
    },
    {
      "cell_type": "code",
      "source": [
        "print(df_apple.head())"
      ],
      "metadata": {
        "colab": {
          "base_uri": "https://localhost:8080/"
        },
        "id": "x26M9KGnJrN3",
        "outputId": "0ea1251a-2cc8-435e-8266-ff599e2c93a5"
      },
      "execution_count": null,
      "outputs": [
        {
          "output_type": "stream",
          "name": "stdout",
          "text": [
            "   Year Quarter  Current Assets  Current Liabilities    Total Debt  \\\n",
            "0  2005      Q1    6.271750e+07         6.581200e+07  5.065200e+07   \n",
            "1  2005      Q2    6.271750e+07         6.581200e+07  5.065200e+07   \n",
            "2  2005      Q3    6.271750e+07         6.581200e+07  5.065200e+07   \n",
            "3  2005      Q4    6.271750e+07         6.581200e+07  5.065200e+07   \n",
            "4  2006      Q1    6.573343e+07         6.866627e+07  5.359245e+07   \n",
            "\n",
            "   Total Equity    Net Income       Revenue  Cost of Goods Sold (COGS)  \\\n",
            "0  3.335400e+07  1.072400e+07  4.288850e+07               2.304950e+07   \n",
            "1  3.335400e+07  1.072400e+07  4.288850e+07               2.304950e+07   \n",
            "2  3.335400e+07  1.072400e+07  4.288850e+07               2.304950e+07   \n",
            "3  3.335400e+07  1.072400e+07  4.288850e+07               2.304950e+07   \n",
            "4  3.491011e+07  1.122085e+07  4.495754e+07               2.449389e+07   \n",
            "\n",
            "   Operating Cash Flow  Operating Income  Current Ratio  \\\n",
            "0         1.442900e+07      1.267600e+07       0.952980   \n",
            "1         1.442900e+07      1.267600e+07       0.952980   \n",
            "2         1.442900e+07      1.267600e+07       0.952980   \n",
            "3         1.442900e+07      1.267600e+07       0.952980   \n",
            "4         1.509165e+07      1.339759e+07       0.957288   \n",
            "\n",
            "   Debt-to-Equity (D/E) Ratio  Return on Equity (ROE)  Gross Profit Margin  \\\n",
            "0                    1.518618                0.321521             0.462572   \n",
            "1                    1.518618                0.321521             0.462572   \n",
            "2                    1.518618                0.321521             0.462572   \n",
            "3                    1.518618                0.321521             0.462572   \n",
            "4                    1.535156                0.321421             0.455177   \n",
            "\n",
            "   Net Profit Margin  Cash Flow to Debt Ratio  Revenue Growth  \\\n",
            "0           0.250044                 0.284865             NaN   \n",
            "1           0.250044                 0.284865        0.000000   \n",
            "2           0.250044                 0.284865        0.000000   \n",
            "3           0.250044                 0.284865        0.000000   \n",
            "4           0.249588                 0.281600        0.048242   \n",
            "\n",
            "   Earnings Growth  Operating Income Growth  \n",
            "0              NaN                      NaN  \n",
            "1          0.00000                 0.000000  \n",
            "2          0.00000                 0.000000  \n",
            "3          0.00000                 0.000000  \n",
            "4          0.04633                 0.056926  \n"
          ]
        }
      ]
    },
    {
      "cell_type": "code",
      "source": [
        "df_enron = pd.read_excel('/content/enron_stock_quarterly_data.xlsx')"
      ],
      "metadata": {
        "id": "IfQRKHyAJuRw"
      },
      "execution_count": null,
      "outputs": []
    },
    {
      "cell_type": "code",
      "source": [
        "# 1. Current Ratio\n",
        "df_enron['Current Ratio'] = df_enron['Current Assets'] / df_enron['Current Liabilities']\n",
        "\n",
        "# 2. Debt-to-Equity (D/E) Ratio\n",
        "df_enron['Debt-to-Equity (D/E) Ratio'] = df_enron['Total Debt'] / df_enron['Total Equity']\n",
        "\n",
        "# 3. Return on Equity (ROE)\n",
        "df_enron['Return on Equity (ROE)'] = df_enron['Net Income'] / df_enron['Total Equity']\n",
        "\n",
        "# 4. Gross Profit Margin\n",
        "df_enron['Gross Profit Margin'] = (df_enron['Revenue'] - df_enron['Cost of Goods Sold (COGS)']) / df_enron['Revenue']\n",
        "\n",
        "# 5. Net Profit Margin\n",
        "df_enron['Net Profit Margin'] = df_enron['Net Income'] / df_enron['Revenue']\n",
        "\n",
        "# 6. Cash Flow to Debt Ratio\n",
        "df_enron['Cash Flow to Debt Ratio'] = df_enron['Operating Cash Flow'] / df_enron['Total Debt']\n",
        "\n",
        "# 7. Revenue Growth (calculate the difference between current and previous rows)\n",
        "df_enron['Revenue Growth'] = df_enron['Revenue'].pct_change()\n",
        "\n",
        "# 8. Earnings Growth (calculate the difference between current and previous rows)\n",
        "df_enron['Earnings Growth'] = df_enron['Net Income'].pct_change()\n",
        "\n",
        "# 9. Operating Income Growth (calculate the difference between current and previous rows)\n",
        "df_enron['Operating Income Growth'] = df_enron['Operating Income'].pct_change()\n",
        "\n",
        "# Step 3: Save the updated dataset with the new ratios\n",
        "df_enron.to_excel('enron_financial_ratios.xlsx', index=False)\n",
        "\n",
        "print(\"Financial ratios for Enron calculated and saved successfully.\")"
      ],
      "metadata": {
        "colab": {
          "base_uri": "https://localhost:8080/"
        },
        "id": "NYWYyNMvJxav",
        "outputId": "0478c869-3a06-4277-ebef-f9540ab2651a"
      },
      "execution_count": null,
      "outputs": [
        {
          "output_type": "stream",
          "name": "stdout",
          "text": [
            "Financial ratios for Enron calculated and saved successfully.\n"
          ]
        }
      ]
    },
    {
      "cell_type": "code",
      "source": [
        "print(df_enron.head())"
      ],
      "metadata": {
        "colab": {
          "base_uri": "https://localhost:8080/"
        },
        "id": "Wd-_nh5jJ1hi",
        "outputId": "4b6a6569-5fed-4164-e325-54322b584642"
      },
      "execution_count": null,
      "outputs": [
        {
          "output_type": "stream",
          "name": "stdout",
          "text": [
            "   Year  Quarter  Current Assets  Current Liabilities    Total Debt  \\\n",
            "0  1990        1   616524.373016        695607.671080  1.024169e+06   \n",
            "1  1990        2   623820.585363        587781.712800  1.061198e+06   \n",
            "2  1990        3   749867.229159        704365.556027  1.002574e+06   \n",
            "3  1990        4   639371.858510        570991.520426  1.018314e+06   \n",
            "4  1991        1   780916.475333        706146.974628  1.123499e+06   \n",
            "\n",
            "   Total Equity    Net Income       Revenue  Cost of Goods Sold (COGS)  \\\n",
            "0  9.272522e+05  47628.798765  9.993461e+06               2.604544e+06   \n",
            "1  8.712384e+05  66378.752861  1.581240e+07               2.068130e+06   \n",
            "2  9.176379e+05  50435.610498  1.447490e+07               1.842251e+06   \n",
            "3  9.310151e+05  59501.910382  1.206134e+07               2.320610e+06   \n",
            "4  1.079554e+06  70522.859753  9.375123e+06               2.770852e+06   \n",
            "\n",
            "   Operating Cash Flow  Operating Income  Current Ratio  \\\n",
            "0         32778.826465      -2480.700851       0.886310   \n",
            "1         33242.049447      -2485.794456       1.061313   \n",
            "2         32978.674507       2387.597276       1.064600   \n",
            "3         33121.640529       2367.380977       1.119757   \n",
            "4         40029.560390       2840.223854       1.105884   \n",
            "\n",
            "   Debt-to-Equity (D/E) Ratio  Return on Equity (ROE)  Gross Profit Margin  \\\n",
            "0                    1.104520                0.051366             0.739375   \n",
            "1                    1.218033                0.076189             0.869208   \n",
            "2                    1.092559                0.054962             0.872728   \n",
            "3                    1.093767                0.063911             0.807599   \n",
            "4                    1.040707                0.065326             0.704446   \n",
            "\n",
            "   Net Profit Margin  Cash Flow to Debt Ratio  Revenue Growth  \\\n",
            "0           0.004766                 0.032005             NaN   \n",
            "1           0.004198                 0.031325        0.582275   \n",
            "2           0.003484                 0.032894       -0.084586   \n",
            "3           0.004933                 0.032526       -0.166741   \n",
            "4           0.007522                 0.035629       -0.222713   \n",
            "\n",
            "   Earnings Growth  Operating Income Growth  \n",
            "0              NaN                      NaN  \n",
            "1         0.393668                 0.002053  \n",
            "2        -0.240184                -1.960497  \n",
            "3         0.179760                -0.008467  \n",
            "4         0.185220                 0.199732  \n"
          ]
        }
      ]
    },
    {
      "cell_type": "markdown",
      "source": [
        "## **fraud detection pipeline**\n",
        "\n",
        "**Data Preprocessing:**\n",
        "\n",
        "Categorical features in Apple's dataset are converted to numeric values using Label Encoding.\n",
        "A new target variable, IsFraud, is introduced, where 5% of Apple’s data is randomly labeled as fraud for training purposes.\n",
        "\n",
        "**Feature Set and Target Variable:**\n",
        "\n",
        "The feature set X consists of all columns except the IsFraud label.\n",
        "The target variable y is the IsFraud column, indicating whether the data represents fraudulent behavior or not.\n",
        "\n",
        "**Train-Test Split:**\n",
        "\n",
        "The data is split into training and testing sets with an 80-20 split, ensuring that the model is trained on a portion of the data and tested on the remaining portion for performance evaluation.\n",
        "\n",
        "**Model Training:**\n",
        "\n",
        "Two models are trained: a Decision Tree and a Random Forest classifier. Each is fitted to the training data (X_train, y_train).\n",
        "\n",
        "**Evaluation:**\n",
        "\n",
        "Both models are evaluated using the test data (X_test, y_test), and their performance is measured using accuracy score and a detailed classification report, which includes precision, recall, and F1-score for each class (fraud and non-fraud).\n",
        "\n",
        "**Prediction**\n",
        "\n",
        "The same preprocessing is applied to Enron's dataset, ensuring that categorical columns are encoded similarly.\n",
        "Predictions are made for the IsFraud label using both the decision tree and random forest models.\n",
        "Sample Display of Fraud and Non-Fraud Data:\n"
      ],
      "metadata": {
        "id": "1F9hQ2RHYQCA"
      }
    },
    {
      "cell_type": "code",
      "source": [
        "import pandas as pd\n",
        "from sklearn.model_selection import train_test_split\n",
        "from sklearn.tree import DecisionTreeClassifier\n",
        "from sklearn.ensemble import RandomForestClassifier\n",
        "from sklearn.metrics import accuracy_score, classification_report\n",
        "from sklearn.preprocessing import LabelEncoder\n",
        "\n",
        "# Assuming df_apple and df_enron are already loaded and preprocessed\n",
        "\n",
        "# Step 1: Data Preprocessing - Convert categorical columns to numeric\n",
        "# Find all categorical columns\n",
        "categorical_columns = df_apple.select_dtypes(include=['object']).columns\n",
        "\n",
        "# Apply Label Encoding to categorical columns\n",
        "label_encoders = {}\n",
        "for col in categorical_columns:\n",
        "    le = LabelEncoder()\n",
        "    df_apple[col] = le.fit_transform(df_apple[col])\n",
        "    label_encoders[col] = le  # Store encoders for future transformations\n",
        "\n",
        "# Ensure 'IsFraud' column is in df_apple\n",
        "df_apple['IsFraud'] = 0  # Mark all as non-fraud initially\n",
        "df_apple.loc[df_apple.sample(frac=0.05).index, 'IsFraud'] = 1  # Randomly assign 5% as fraud\n",
        "\n",
        "# Step 2: Prepare the feature set (X) and target variable (y)\n",
        "X = df_apple.drop(columns=['IsFraud'])  # Features\n",
        "y = df_apple['IsFraud']  # Target (fraud/no fraud)\n",
        "\n",
        "# Step 3: Train-test split\n",
        "X_train, X_test, y_train, y_test = train_test_split(X, y, test_size=0.2, random_state=42)\n",
        "\n",
        "# Step 4: Decision Tree Model\n",
        "dt_model = DecisionTreeClassifier(random_state=42)\n",
        "dt_model.fit(X_train, y_train)\n",
        "y_pred_dt = dt_model.predict(X_test)\n",
        "\n",
        "# Step 5: Random Forest Model\n",
        "rf_model = RandomForestClassifier(random_state=42)\n",
        "rf_model.fit(X_train, y_train)\n",
        "y_pred_rf = rf_model.predict(X_test)\n",
        "\n",
        "# Step 6: Evaluating the models\n",
        "print(\"Decision Tree Accuracy:\", accuracy_score(y_test, y_pred_dt))\n",
        "print(\"Random Forest Accuracy:\", accuracy_score(y_test, y_pred_rf))\n",
        "print(\"Decision Tree Classification Report:\")\n",
        "print(classification_report(y_test, y_pred_dt))\n",
        "print(\"Random Forest Classification Report:\")\n",
        "print(classification_report(y_test, y_pred_rf))\n",
        "\n",
        "# Step 7: Predict on Enron Data (assuming df_enron is already loaded)\n",
        "# Apply same preprocessing to df_enron\n",
        "for col in categorical_columns:\n",
        "    if col in df_enron.columns:\n",
        "        # Handle unseen categories by assigning a default value for unknown categories\n",
        "        df_enron[col] = df_enron[col].apply(lambda x: label_encoders[col].transform([x])[0]\n",
        "                                            if x in label_encoders[col].classes_\n",
        "                                            else -1)\n",
        "\n",
        "# Step 8: Ensure feature consistency between df_apple (used for training) and df_enron\n",
        "# Drop any columns not in df_apple\n",
        "X_enron = df_enron[X.columns.intersection(df_enron.columns)]  # Ensure the same features are used\n",
        "\n",
        "# Predict 'IsFraud' for Enron dataset using both models\n",
        "df_enron['IsFraud_DT'] = dt_model.predict(X_enron)\n",
        "df_enron['IsFraud_RF'] = rf_model.predict(X_enron)\n",
        "\n",
        "# Step 9: Display fraud values from Enron and non-fraud values from Apple\n",
        "\n",
        "# From Apple (Random 10 records, showing non-fraud status)\n",
        "apple_non_fraud_sample = df_apple[df_apple['IsFraud'] == 0].sample(10)  # Randomly sample 10 non-fraud rows\n",
        "apple_non_fraud_sample['Source'] = 'Apple'  # Add a column to indicate the data source\n",
        "apple_non_fraud_sample['Fraud'] = 'Not Fraud'  # Mark as not fraud\n",
        "\n",
        "# From Enron (Display only fraud values)\n",
        "enron_fraud = df_enron[(df_enron['IsFraud_DT'] == 1) | (df_enron['IsFraud_RF'] == 1)]  # Filter fraud cases\n",
        "\n",
        "# Check if there are enough fraud rows, if not, use all available rows\n",
        "if len(enron_fraud) >= 10:\n",
        "    enron_fraud_sample = enron_fraud.sample(10)  # Randomly sample 10 fraud rows\n",
        "else:\n",
        "    enron_fraud_sample = enron_fraud  # Use all available fraud rows if less than 10\n",
        "\n",
        "enron_fraud_sample['Source'] = 'Enron'  # Add a column to indicate the data source\n",
        "enron_fraud_sample['Fraud'] = 'Fraud'  # Mark as fraud\n",
        "\n",
        "# Concatenate Apple and Enron results for display\n",
        "combined_sample = pd.concat([apple_non_fraud_sample[['Source', 'Fraud']],\n",
        "                             enron_fraud_sample[['Source', 'Fraud']]], ignore_index=True)\n",
        "\n",
        "# Display the results\n",
        "print(\"\\nApple Sample (10 records):\")\n",
        "print(apple_non_fraud_sample[['Source', 'Fraud']])\n",
        "\n",
        "print(\"\\nEnron Sample (Fraud Records):\")\n",
        "print(enron_fraud_sample[['Source', 'Fraud']])\n"
      ],
      "metadata": {
        "colab": {
          "base_uri": "https://localhost:8080/"
        },
        "id": "yOnYQE6iJ8cE",
        "outputId": "ca50a4f6-35f2-425a-c145-af5afce29e93"
      },
      "execution_count": null,
      "outputs": [
        {
          "output_type": "stream",
          "name": "stdout",
          "text": [
            "Decision Tree Accuracy: 0.875\n",
            "Random Forest Accuracy: 0.9375\n",
            "Decision Tree Classification Report:\n",
            "              precision    recall  f1-score   support\n",
            "\n",
            "           0       0.93      0.93      0.93        15\n",
            "           1       0.00      0.00      0.00         1\n",
            "\n",
            "    accuracy                           0.88        16\n",
            "   macro avg       0.47      0.47      0.47        16\n",
            "weighted avg       0.88      0.88      0.88        16\n",
            "\n",
            "Random Forest Classification Report:\n",
            "              precision    recall  f1-score   support\n",
            "\n",
            "           0       0.94      1.00      0.97        15\n",
            "           1       0.00      0.00      0.00         1\n",
            "\n",
            "    accuracy                           0.94        16\n",
            "   macro avg       0.47      0.50      0.48        16\n",
            "weighted avg       0.88      0.94      0.91        16\n",
            "\n",
            "\n",
            "Apple Sample (10 records):\n",
            "   Source      Fraud\n",
            "32  Apple  Not Fraud\n",
            "41  Apple  Not Fraud\n",
            "79  Apple  Not Fraud\n",
            "1   Apple  Not Fraud\n",
            "0   Apple  Not Fraud\n",
            "53  Apple  Not Fraud\n",
            "54  Apple  Not Fraud\n",
            "13  Apple  Not Fraud\n",
            "68  Apple  Not Fraud\n",
            "44  Apple  Not Fraud\n",
            "\n",
            "Enron Sample (Fraud Records):\n",
            "   Source  Fraud\n",
            "23  Enron  Fraud\n",
            "33  Enron  Fraud\n",
            "11  Enron  Fraud\n",
            "28  Enron  Fraud\n",
            "18  Enron  Fraud\n",
            "25  Enron  Fraud\n",
            "27  Enron  Fraud\n",
            "5   Enron  Fraud\n",
            "13  Enron  Fraud\n",
            "12  Enron  Fraud\n"
          ]
        },
        {
          "output_type": "stream",
          "name": "stderr",
          "text": [
            "/usr/local/lib/python3.10/dist-packages/sklearn/metrics/_classification.py:1531: UndefinedMetricWarning: Precision is ill-defined and being set to 0.0 in labels with no predicted samples. Use `zero_division` parameter to control this behavior.\n",
            "  _warn_prf(average, modifier, f\"{metric.capitalize()} is\", len(result))\n",
            "/usr/local/lib/python3.10/dist-packages/sklearn/metrics/_classification.py:1531: UndefinedMetricWarning: Precision is ill-defined and being set to 0.0 in labels with no predicted samples. Use `zero_division` parameter to control this behavior.\n",
            "  _warn_prf(average, modifier, f\"{metric.capitalize()} is\", len(result))\n",
            "/usr/local/lib/python3.10/dist-packages/sklearn/metrics/_classification.py:1531: UndefinedMetricWarning: Precision is ill-defined and being set to 0.0 in labels with no predicted samples. Use `zero_division` parameter to control this behavior.\n",
            "  _warn_prf(average, modifier, f\"{metric.capitalize()} is\", len(result))\n"
          ]
        }
      ]
    },
    {
      "cell_type": "markdown",
      "source": [
        "## **Decision Tree Classifier:**\n",
        "\n",
        "Accuracy: 0.875\n",
        "Precision for Non-Fraud (0): 0.93 (very high, indicating that when the model predicts non-fraud, it's mostly correct)\n",
        "\n",
        "Recall for Non-Fraud (0): 0.93 (indicates that the model is correctly identifying most non-fraud cases)\n",
        "\n",
        "Precision and Recall for Fraud (1): 0.00 (the model completely failed to predict fraud, likely due to class imbalance as there is only one fraud case in the dataset)\n",
        "\n",
        "F1-Score for Non-Fraud (0): 0.93 (indicates a good balance between precision and recall for non-fraud cases)\n",
        "\n",
        "F1-Score for Fraud (1): 0.00 (poor performance in detecting fraud due to the lack of sufficient data)\n",
        "\n",
        "\n",
        "\n",
        "\n",
        "## **Random Forest Classifier:**\n",
        "\n",
        "Accuracy: 0.9375\n",
        "\n",
        "Precision for Non-Fraud (0): 0.94\n",
        "\n",
        "Recall for Non-Fraud (0): 1.00 (the model correctly identifies all non-fraud cases)\n",
        "\n",
        "Precision and Recall for Fraud (1): 0.00 (similar to the decision tree, the random forest model also fails to predict fraud)\n",
        "\n",
        "F1-Score for Non-Fraud (0): 0.97\n",
        "\n",
        "F1-Score for Fraud (1): 0.00\n",
        "\n"
      ],
      "metadata": {
        "id": "S6as89PjZCt5"
      }
    }
  ]
}